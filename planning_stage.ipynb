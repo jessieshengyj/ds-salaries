{
 "cells": [
  {
   "cell_type": "markdown",
   "id": "4b3b8ebf-1d0b-4caf-b9b0-4f60c4becea0",
   "metadata": {},
   "source": [
    "# Planning Stage: Data Description & Exploratory Data Analysis and Visualization"
   ]
  },
  {
   "cell_type": "code",
   "execution_count": 22,
   "id": "b4f41991-3172-4c24-ba05-0bbed451328c",
   "metadata": {},
   "outputs": [],
   "source": [
    "# libraries needed in this analysis\n",
    "\n",
    "library(tidyverse)\n",
    "library(repr)\n",
    "library(broom)"
   ]
  },
  {
   "cell_type": "markdown",
   "id": "a60ee0bc-5a4b-48f3-8782-ca9605ae4b28",
   "metadata": {},
   "source": [
    "## 1. Data Description"
   ]
  },
  {
   "cell_type": "markdown",
   "id": "1c91f9f2-0a32-454e-a53c-a5bf98623d1f",
   "metadata": {},
   "source": [
    "We begin by downloading and reading the \"Data Science Job Salaries\" dataset from Kaggle. \n",
    "\n",
    "> https://www.kaggle.com/datasets/ruchi798/data-science-job-salaries"
   ]
  },
  {
   "cell_type": "code",
   "execution_count": 25,
   "id": "f63dbee7-6098-41d6-ad4b-29f184147dcb",
   "metadata": {},
   "outputs": [
    {
     "name": "stderr",
     "output_type": "stream",
     "text": [
      "\u001b[1m\u001b[22mNew names:\n",
      "\u001b[36m•\u001b[39m `` -> `...1`\n"
     ]
    },
    {
     "data": {
      "text/html": [
       "<table class=\"dataframe\">\n",
       "<caption>A tibble: 15 × 11</caption>\n",
       "<thead>\n",
       "\t<tr><th scope=col>work_year</th><th scope=col>experience_level</th><th scope=col>employment_type</th><th scope=col>job_title</th><th scope=col>salary</th><th scope=col>salary_currency</th><th scope=col>salary_in_usd</th><th scope=col>employee_residence</th><th scope=col>remote_ratio</th><th scope=col>company_location</th><th scope=col>company_size</th></tr>\n",
       "\t<tr><th scope=col>&lt;dbl&gt;</th><th scope=col>&lt;chr&gt;</th><th scope=col>&lt;chr&gt;</th><th scope=col>&lt;chr&gt;</th><th scope=col>&lt;dbl&gt;</th><th scope=col>&lt;chr&gt;</th><th scope=col>&lt;dbl&gt;</th><th scope=col>&lt;chr&gt;</th><th scope=col>&lt;dbl&gt;</th><th scope=col>&lt;chr&gt;</th><th scope=col>&lt;chr&gt;</th></tr>\n",
       "</thead>\n",
       "<tbody>\n",
       "\t<tr><td>2020</td><td>MI</td><td>FT</td><td>Data Scientist            </td><td>   70000</td><td>EUR</td><td> 79833</td><td>DE</td><td>  0</td><td>DE</td><td>L</td></tr>\n",
       "\t<tr><td>2020</td><td>SE</td><td>FT</td><td>Machine Learning Scientist</td><td>  260000</td><td>USD</td><td>260000</td><td>JP</td><td>  0</td><td>JP</td><td>S</td></tr>\n",
       "\t<tr><td>2020</td><td>SE</td><td>FT</td><td>Big Data Engineer         </td><td>   85000</td><td>GBP</td><td>109024</td><td>GB</td><td> 50</td><td>GB</td><td>M</td></tr>\n",
       "\t<tr><td>2020</td><td>MI</td><td>FT</td><td>Product Data Analyst      </td><td>   20000</td><td>USD</td><td> 20000</td><td>HN</td><td>  0</td><td>HN</td><td>S</td></tr>\n",
       "\t<tr><td>2020</td><td>SE</td><td>FT</td><td>Machine Learning Engineer </td><td>  150000</td><td>USD</td><td>150000</td><td>US</td><td> 50</td><td>US</td><td>L</td></tr>\n",
       "\t<tr><td>2020</td><td>EN</td><td>FT</td><td>Data Analyst              </td><td>   72000</td><td>USD</td><td> 72000</td><td>US</td><td>100</td><td>US</td><td>L</td></tr>\n",
       "\t<tr><td>2020</td><td>SE</td><td>FT</td><td>Lead Data Scientist       </td><td>  190000</td><td>USD</td><td>190000</td><td>US</td><td>100</td><td>US</td><td>S</td></tr>\n",
       "\t<tr><td>2020</td><td>MI</td><td>FT</td><td>Data Scientist            </td><td>11000000</td><td>HUF</td><td> 35735</td><td>HU</td><td> 50</td><td>HU</td><td>L</td></tr>\n",
       "\t<tr><td>2020</td><td>MI</td><td>FT</td><td>Business Data Analyst     </td><td>  135000</td><td>USD</td><td>135000</td><td>US</td><td>100</td><td>US</td><td>L</td></tr>\n",
       "\t<tr><td>2020</td><td>SE</td><td>FT</td><td>Lead Data Engineer        </td><td>  125000</td><td>USD</td><td>125000</td><td>NZ</td><td> 50</td><td>NZ</td><td>S</td></tr>\n",
       "\t<tr><td>2020</td><td>EN</td><td>FT</td><td>Data Scientist            </td><td>   45000</td><td>EUR</td><td> 51321</td><td>FR</td><td>  0</td><td>FR</td><td>S</td></tr>\n",
       "\t<tr><td>2020</td><td>MI</td><td>FT</td><td>Data Scientist            </td><td> 3000000</td><td>INR</td><td> 40481</td><td>IN</td><td>  0</td><td>IN</td><td>L</td></tr>\n",
       "\t<tr><td>2020</td><td>EN</td><td>FT</td><td>Data Scientist            </td><td>   35000</td><td>EUR</td><td> 39916</td><td>FR</td><td>  0</td><td>FR</td><td>M</td></tr>\n",
       "\t<tr><td>2020</td><td>MI</td><td>FT</td><td>Lead Data Analyst         </td><td>   87000</td><td>USD</td><td> 87000</td><td>US</td><td>100</td><td>US</td><td>L</td></tr>\n",
       "\t<tr><td>2020</td><td>MI</td><td>FT</td><td>Data Analyst              </td><td>   85000</td><td>USD</td><td> 85000</td><td>US</td><td>100</td><td>US</td><td>L</td></tr>\n",
       "</tbody>\n",
       "</table>\n"
      ],
      "text/latex": [
       "A tibble: 15 × 11\n",
       "\\begin{tabular}{lllllllllll}\n",
       " work\\_year & experience\\_level & employment\\_type & job\\_title & salary & salary\\_currency & salary\\_in\\_usd & employee\\_residence & remote\\_ratio & company\\_location & company\\_size\\\\\n",
       " <dbl> & <chr> & <chr> & <chr> & <dbl> & <chr> & <dbl> & <chr> & <dbl> & <chr> & <chr>\\\\\n",
       "\\hline\n",
       "\t 2020 & MI & FT & Data Scientist             &    70000 & EUR &  79833 & DE &   0 & DE & L\\\\\n",
       "\t 2020 & SE & FT & Machine Learning Scientist &   260000 & USD & 260000 & JP &   0 & JP & S\\\\\n",
       "\t 2020 & SE & FT & Big Data Engineer          &    85000 & GBP & 109024 & GB &  50 & GB & M\\\\\n",
       "\t 2020 & MI & FT & Product Data Analyst       &    20000 & USD &  20000 & HN &   0 & HN & S\\\\\n",
       "\t 2020 & SE & FT & Machine Learning Engineer  &   150000 & USD & 150000 & US &  50 & US & L\\\\\n",
       "\t 2020 & EN & FT & Data Analyst               &    72000 & USD &  72000 & US & 100 & US & L\\\\\n",
       "\t 2020 & SE & FT & Lead Data Scientist        &   190000 & USD & 190000 & US & 100 & US & S\\\\\n",
       "\t 2020 & MI & FT & Data Scientist             & 11000000 & HUF &  35735 & HU &  50 & HU & L\\\\\n",
       "\t 2020 & MI & FT & Business Data Analyst      &   135000 & USD & 135000 & US & 100 & US & L\\\\\n",
       "\t 2020 & SE & FT & Lead Data Engineer         &   125000 & USD & 125000 & NZ &  50 & NZ & S\\\\\n",
       "\t 2020 & EN & FT & Data Scientist             &    45000 & EUR &  51321 & FR &   0 & FR & S\\\\\n",
       "\t 2020 & MI & FT & Data Scientist             &  3000000 & INR &  40481 & IN &   0 & IN & L\\\\\n",
       "\t 2020 & EN & FT & Data Scientist             &    35000 & EUR &  39916 & FR &   0 & FR & M\\\\\n",
       "\t 2020 & MI & FT & Lead Data Analyst          &    87000 & USD &  87000 & US & 100 & US & L\\\\\n",
       "\t 2020 & MI & FT & Data Analyst               &    85000 & USD &  85000 & US & 100 & US & L\\\\\n",
       "\\end{tabular}\n"
      ],
      "text/markdown": [
       "\n",
       "A tibble: 15 × 11\n",
       "\n",
       "| work_year &lt;dbl&gt; | experience_level &lt;chr&gt; | employment_type &lt;chr&gt; | job_title &lt;chr&gt; | salary &lt;dbl&gt; | salary_currency &lt;chr&gt; | salary_in_usd &lt;dbl&gt; | employee_residence &lt;chr&gt; | remote_ratio &lt;dbl&gt; | company_location &lt;chr&gt; | company_size &lt;chr&gt; |\n",
       "|---|---|---|---|---|---|---|---|---|---|---|\n",
       "| 2020 | MI | FT | Data Scientist             |    70000 | EUR |  79833 | DE |   0 | DE | L |\n",
       "| 2020 | SE | FT | Machine Learning Scientist |   260000 | USD | 260000 | JP |   0 | JP | S |\n",
       "| 2020 | SE | FT | Big Data Engineer          |    85000 | GBP | 109024 | GB |  50 | GB | M |\n",
       "| 2020 | MI | FT | Product Data Analyst       |    20000 | USD |  20000 | HN |   0 | HN | S |\n",
       "| 2020 | SE | FT | Machine Learning Engineer  |   150000 | USD | 150000 | US |  50 | US | L |\n",
       "| 2020 | EN | FT | Data Analyst               |    72000 | USD |  72000 | US | 100 | US | L |\n",
       "| 2020 | SE | FT | Lead Data Scientist        |   190000 | USD | 190000 | US | 100 | US | S |\n",
       "| 2020 | MI | FT | Data Scientist             | 11000000 | HUF |  35735 | HU |  50 | HU | L |\n",
       "| 2020 | MI | FT | Business Data Analyst      |   135000 | USD | 135000 | US | 100 | US | L |\n",
       "| 2020 | SE | FT | Lead Data Engineer         |   125000 | USD | 125000 | NZ |  50 | NZ | S |\n",
       "| 2020 | EN | FT | Data Scientist             |    45000 | EUR |  51321 | FR |   0 | FR | S |\n",
       "| 2020 | MI | FT | Data Scientist             |  3000000 | INR |  40481 | IN |   0 | IN | L |\n",
       "| 2020 | EN | FT | Data Scientist             |    35000 | EUR |  39916 | FR |   0 | FR | M |\n",
       "| 2020 | MI | FT | Lead Data Analyst          |    87000 | USD |  87000 | US | 100 | US | L |\n",
       "| 2020 | MI | FT | Data Analyst               |    85000 | USD |  85000 | US | 100 | US | L |\n",
       "\n"
      ],
      "text/plain": [
       "   work_year experience_level employment_type job_title                 \n",
       "1  2020      MI               FT              Data Scientist            \n",
       "2  2020      SE               FT              Machine Learning Scientist\n",
       "3  2020      SE               FT              Big Data Engineer         \n",
       "4  2020      MI               FT              Product Data Analyst      \n",
       "5  2020      SE               FT              Machine Learning Engineer \n",
       "6  2020      EN               FT              Data Analyst              \n",
       "7  2020      SE               FT              Lead Data Scientist       \n",
       "8  2020      MI               FT              Data Scientist            \n",
       "9  2020      MI               FT              Business Data Analyst     \n",
       "10 2020      SE               FT              Lead Data Engineer        \n",
       "11 2020      EN               FT              Data Scientist            \n",
       "12 2020      MI               FT              Data Scientist            \n",
       "13 2020      EN               FT              Data Scientist            \n",
       "14 2020      MI               FT              Lead Data Analyst         \n",
       "15 2020      MI               FT              Data Analyst              \n",
       "   salary   salary_currency salary_in_usd employee_residence remote_ratio\n",
       "1     70000 EUR              79833        DE                   0         \n",
       "2    260000 USD             260000        JP                   0         \n",
       "3     85000 GBP             109024        GB                  50         \n",
       "4     20000 USD              20000        HN                   0         \n",
       "5    150000 USD             150000        US                  50         \n",
       "6     72000 USD              72000        US                 100         \n",
       "7    190000 USD             190000        US                 100         \n",
       "8  11000000 HUF              35735        HU                  50         \n",
       "9    135000 USD             135000        US                 100         \n",
       "10   125000 USD             125000        NZ                  50         \n",
       "11    45000 EUR              51321        FR                   0         \n",
       "12  3000000 INR              40481        IN                   0         \n",
       "13    35000 EUR              39916        FR                   0         \n",
       "14    87000 USD              87000        US                 100         \n",
       "15    85000 USD              85000        US                 100         \n",
       "   company_location company_size\n",
       "1  DE               L           \n",
       "2  JP               S           \n",
       "3  GB               M           \n",
       "4  HN               S           \n",
       "5  US               L           \n",
       "6  US               L           \n",
       "7  US               S           \n",
       "8  HU               L           \n",
       "9  US               L           \n",
       "10 NZ               S           \n",
       "11 FR               S           \n",
       "12 IN               L           \n",
       "13 FR               M           \n",
       "14 US               L           \n",
       "15 US               L           "
      ]
     },
     "metadata": {},
     "output_type": "display_data"
    }
   ],
   "source": [
    "data <- read_csv(\"data/ds_salaries.csv\", col_names = TRUE, show_col_types = FALSE)\n",
    "data <- data[, -1] # remove the first column\n",
    "head(data, n = 15)"
   ]
  }
 ],
 "metadata": {
  "kernelspec": {
   "display_name": "R",
   "language": "R",
   "name": "ir"
  },
  "language_info": {
   "codemirror_mode": "r",
   "file_extension": ".r",
   "mimetype": "text/x-r-source",
   "name": "R",
   "pygments_lexer": "r",
   "version": "4.3.3"
  }
 },
 "nbformat": 4,
 "nbformat_minor": 5
}
